{
  "nbformat": 4,
  "nbformat_minor": 0,
  "metadata": {
    "colab": {
      "provenance": []
    },
    "kernelspec": {
      "name": "python3",
      "display_name": "Python 3"
    },
    "language_info": {
      "name": "python"
    }
  },
  "cells": [
    {
      "cell_type": "code",
      "execution_count": 4,
      "metadata": {
        "colab": {
          "base_uri": "https://localhost:8080/"
        },
        "id": "RN06w8H1UHKD",
        "outputId": "3efa873c-0556-4c6d-f10d-a78845901f9c"
      },
      "outputs": [
        {
          "output_type": "stream",
          "name": "stdout",
          "text": [
            "Collecting faker\n",
            "  Downloading faker-37.5.3-py3-none-any.whl.metadata (15 kB)\n",
            "Requirement already satisfied: tzdata in /usr/local/lib/python3.11/dist-packages (from faker) (2025.2)\n",
            "Downloading faker-37.5.3-py3-none-any.whl (1.9 MB)\n",
            "\u001b[?25l   \u001b[90m━━━━━━━━━━━━━━━━━━━━━━━━━━━━━━━━━━━━━━━━\u001b[0m \u001b[32m0.0/1.9 MB\u001b[0m \u001b[31m?\u001b[0m eta \u001b[36m-:--:--\u001b[0m\r\u001b[2K   \u001b[91m━━━━━━━━━━━━━━━━━━━━━━━━━━━━━━━━━━━━━━━\u001b[0m\u001b[91m╸\u001b[0m \u001b[32m1.9/1.9 MB\u001b[0m \u001b[31m74.4 MB/s\u001b[0m eta \u001b[36m0:00:01\u001b[0m\r\u001b[2K   \u001b[90m━━━━━━━━━━━━━━━━━━━━━━━━━━━━━━━━━━━━━━━━\u001b[0m \u001b[32m1.9/1.9 MB\u001b[0m \u001b[31m39.4 MB/s\u001b[0m eta \u001b[36m0:00:00\u001b[0m\n",
            "\u001b[?25hInstalling collected packages: faker\n",
            "Successfully installed faker-37.5.3\n",
            "Dataset saved as 'fake_fraud_data.csv'\n"
          ]
        }
      ],
      "source": [
        "! pip install faker\n",
        "import pandas as pd\n",
        "import numpy as np\n",
        "from faker import Faker\n",
        "\n",
        "fake = Faker()\n",
        "data = {\n",
        "    'transaction_id': [fake.uuid4() for _ in range(10000)],\n",
        "    'amount': np.round(np.random.uniform(1, 1000, 10000),),  # $1-$1000\n",
        "    'is_fraud': np.random.choice([0, 1], size=10000, p=[0.98, 0.02]),  # 2% fraud\n",
        "    'device_type': np.random.choice(['mobile', 'desktop'], size=10000),\n",
        "    'user_country': [fake.country_code() for _ in range(10000)]\n",
        "}\n",
        "df = pd.DataFrame(data)\n",
        "df.to_csv('fake_fraud_data.csv', index=False)\n",
        "print(\"Dataset saved as 'fake_fraud_data.csv'\")"
      ]
    }
  ]
}